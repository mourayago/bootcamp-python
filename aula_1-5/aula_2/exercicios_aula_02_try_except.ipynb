{
 "cells": [
  {
   "cell_type": "markdown",
   "metadata": {},
   "source": [
    "## Exercício 21: Conversor de Temperatura\n",
    "\n",
    "Escreva um programa que converta a temperatura de Celsius para Fahrenheit. O programa deve solicitar ao usuário a temperatura em Celsius e, utilizando `try-except`, garantir que a entrada seja numérica, tratando qualquer `ValueError`. Imprima o resultado em Fahrenheit ou uma mensagem de erro se a entrada não for válida."
   ]
  },
  {
   "cell_type": "code",
   "execution_count": 7,
   "metadata": {},
   "outputs": [
    {
     "name": "stdout",
     "output_type": "stream",
     "text": [
      "digite um número válido para a temperatura, ex: 20\n"
     ]
    }
   ],
   "source": [
    "try:\n",
    "    temp_celsius = float(input(\"Digite a temperatura em graus celsius\"))\n",
    "    temp_fah = (temp_celsius *1.8)+32\n",
    "    print(f'A temperatura {temp_celsius} em graus celsius equivale a {temp_fah} em fahrenheit')\n",
    "except ValueError as e:\n",
    "    print(\"digite um número válido para a temperatura, ex: 20\")"
   ]
  },
  {
   "cell_type": "markdown",
   "metadata": {},
   "source": [
    "### Exercício 22: Verificador de Palíndromo\n",
    "\n",
    "Crie um programa que verifica se uma palavra ou frase é um palíndromo (lê-se igualmente de trás para frente, desconsiderando espaços e pontuações). Utilize `try-except` para garantir que a entrada seja uma string. Dica: Utilize a função `isinstance()` para verificar o tipo da entrada."
   ]
  },
  {
   "cell_type": "code",
   "execution_count": 22,
   "metadata": {},
   "outputs": [
    {
     "name": "stdout",
     "output_type": "stream",
     "text": [
      "radar é um palíndromo\n"
     ]
    }
   ],
   "source": [
    "\n",
    "\n",
    "texto = input(\"digite uma palavra\").lower().replace(\" \", \"\").replace(\",\", \"\").replace(\".\", \"\")\n",
    "\n",
    "if isinstance(texto,str):\n",
    "    invertido = texto[::-1]\n",
    "    if texto == invertido:\n",
    "        print(f\"{texto} é um palíndromo\")\n",
    "    else:\n",
    "        print(f'{texto}não é um palíndromo')\n",
    "else:\n",
    "    print(\"Entrada inválida\")\n",
    "\n",
    "\n",
    "\n"
   ]
  },
  {
   "cell_type": "markdown",
   "metadata": {},
   "source": [
    "### Exercício 23: Calculadora Simples\n",
    "\n",
    "Desenvolva uma calculadora simples que aceite duas entradas numéricas e um operador (+, -, *, /) do usuário. Use `try-except` para lidar com divisões por zero e entradas não numéricas. Utilize `if-elif-else` para realizar a operação matemática baseada no operador fornecido. Imprima o resultado ou uma mensagem de erro apropriada."
   ]
  },
  {
   "cell_type": "code",
   "execution_count": 23,
   "metadata": {},
   "outputs": [
    {
     "name": "stdout",
     "output_type": "stream",
     "text": [
      "Resultado: 2.0\n"
     ]
    }
   ],
   "source": [
    "try:\n",
    "    num1 = float(input(\"Digite o primeiro número: \"))\n",
    "    num2 = float(input(\"Digite o segundo número: \"))\n",
    "    operador = input(\"Digite o operador (+, -, *, /): \")\n",
    "    if operador == '+':\n",
    "        resultado = num1 + num2\n",
    "    elif operador == '-':\n",
    "        resultado = num1 - num2\n",
    "    elif operador == '*':\n",
    "        resultado = num1 * num2\n",
    "    elif operador == '/' and num2 != 0:\n",
    "        resultado = num1 / num2\n",
    "    else:\n",
    "        print(\"Operador inválido ou divisão por zero.\")\n",
    "    print(\"Resultado:\", resultado)\n",
    "except ValueError:\n",
    "    print(\"Erro: Entrada inválida. Certifique-se de inserir números.\")"
   ]
  }
 ],
 "metadata": {
  "kernelspec": {
   "display_name": "Python 3",
   "language": "python",
   "name": "python3"
  },
  "language_info": {
   "codemirror_mode": {
    "name": "ipython",
    "version": 3
   },
   "file_extension": ".py",
   "mimetype": "text/x-python",
   "name": "python",
   "nbconvert_exporter": "python",
   "pygments_lexer": "ipython3",
   "version": "3.10.4"
  }
 },
 "nbformat": 4,
 "nbformat_minor": 2
}
