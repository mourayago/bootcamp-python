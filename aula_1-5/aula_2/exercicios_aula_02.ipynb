{
 "cells": [
  {
   "cell_type": "markdown",
   "metadata": {},
   "source": [
    "## Exercícios\n",
    "### Inteiros (`int`)\n",
    "1. Escreva um programa que soma dois números inteiros inseridos pelo usuário.\n",
    "2. Crie um programa que receba um número do usuário e calcule o resto da divisão desse número por 5.\n",
    "3. Desenvolva um programa que multiplique dois números fornecidos pelo usuário e mostre o resultado.\n",
    "4. Faça um programa que peça dois números inteiros e imprima a divisão inteira do primeiro pelo segundo.\n",
    "5. Escreva um programa que calcule o quadrado de um número fornecido pelo usuário.\n"
   ]
  },
  {
   "cell_type": "code",
   "execution_count": 1,
   "metadata": {},
   "outputs": [
    {
     "name": "stdout",
     "output_type": "stream",
     "text": [
      "5\n"
     ]
    }
   ],
   "source": [
    "#1 \n",
    "num_1 = int(input('Insira um número'))\n",
    "num_2 = int(input('Insira um número'))\n",
    "soma = num_1 + num_2\n",
    "print(soma)"
   ]
  },
  {
   "cell_type": "code",
   "execution_count": 2,
   "metadata": {},
   "outputs": [
    {
     "name": "stdout",
     "output_type": "stream",
     "text": [
      "O resto da divisão por 5 é 2\n"
     ]
    }
   ],
   "source": [
    "#2 \n",
    "num = int(input('Insira um número'))\n",
    "div = 5\n",
    "resto = num%div\n",
    "\n",
    "print(f'O resto da divisão por 5 é {resto}')"
   ]
  },
  {
   "cell_type": "code",
   "execution_count": 4,
   "metadata": {},
   "outputs": [
    {
     "name": "stdout",
     "output_type": "stream",
     "text": [
      "A multiplicação de 2 por 3 é 6\n"
     ]
    }
   ],
   "source": [
    "#3\n",
    "num_1 = int(input('Insira um número'))\n",
    "num_2 = int(input('Insira um número'))\n",
    "multi = num_1 * num_2\n",
    "print(f'A multiplicação de {num_1} por {num_2} é {multi}')\n"
   ]
  },
  {
   "cell_type": "code",
   "execution_count": 5,
   "metadata": {},
   "outputs": [
    {
     "name": "stdout",
     "output_type": "stream",
     "text": [
      "A divisão inteira de 2 por 3 é 0\n"
     ]
    }
   ],
   "source": [
    "#4\n",
    "\n",
    "num_1 = int(input('Insira um número'))\n",
    "num_2 = int(input('Insira um número'))\n",
    "\n",
    "div_int = num_1 // num_2\n",
    "\n",
    "print(f'A divisão inteira de {num_1} por {num_2} é {div_int}')\n"
   ]
  },
  {
   "cell_type": "code",
   "execution_count": 6,
   "metadata": {},
   "outputs": [
    {
     "name": "stdout",
     "output_type": "stream",
     "text": [
      "O 3 elevado ao quadrado é 9\n"
     ]
    }
   ],
   "source": [
    "#5\n",
    "num_1 = int(input('Insira um número'))\n",
    "\n",
    "print(f\"O {num_1} elevado ao quadrado é {num_1**2}\")"
   ]
  },
  {
   "cell_type": "markdown",
   "metadata": {},
   "source": [
    "### Números de Ponto Flutuante (float)\n",
    "6. Escreva um programa que receba dois números flutuantes e realize sua adição.\n",
    "7. Crie um programa que calcule a média de dois números flutuantes fornecidos pelo usuário.\n",
    "8. Desenvolva um programa que calcule a potência de um número (base e expoente fornecidos pelo usuário).\n",
    "9. Faça um programa que converta a temperatura de Celsius para Fahrenheit.\n",
    "10. Escreva um programa que calcule a área de um círculo, recebendo o raio como entrada."
   ]
  },
  {
   "cell_type": "code",
   "execution_count": 7,
   "metadata": {},
   "outputs": [
    {
     "name": "stdout",
     "output_type": "stream",
     "text": [
      "A soma de 2.5 por 3.5 é 6.0\n"
     ]
    }
   ],
   "source": [
    "#6\n",
    "\n",
    "num_1 = float(input('Insira um número'))\n",
    "num_2 = float(input('Insira um número'))\n",
    "soma = num_1 + num_2\n",
    "\n",
    "print(f\"A soma de {num_1} por {num_2} é {soma}\")"
   ]
  },
  {
   "cell_type": "code",
   "execution_count": 9,
   "metadata": {},
   "outputs": [
    {
     "name": "stdout",
     "output_type": "stream",
     "text": [
      "A média de 2.0 e 9.0 é 5.5\n"
     ]
    }
   ],
   "source": [
    "#7 \n",
    "\n",
    "num_1 = float(input('Insira um número'))\n",
    "num_2 = float(input('Insira um número'))\n",
    "\n",
    "media = (num_1 + num_2)/2\n",
    "\n",
    "print(f\"A média de {num_1} e {num_2} é {media}\")"
   ]
  },
  {
   "cell_type": "code",
   "execution_count": 10,
   "metadata": {},
   "outputs": [
    {
     "name": "stdout",
     "output_type": "stream",
     "text": [
      "O 2.0 elevado a potencia de 3.0 é 8.0\n"
     ]
    }
   ],
   "source": [
    "#8 \n",
    "num_1 = float(input('Insira um número'))\n",
    "num_2 = float(input('Insira uma potencia'))\n",
    "pot = num_1**num_2\n",
    "\n",
    "print(f'O {num_1} elevado a potencia de {num_2} é {pot}')\n"
   ]
  },
  {
   "cell_type": "code",
   "execution_count": 11,
   "metadata": {},
   "outputs": [
    {
     "name": "stdout",
     "output_type": "stream",
     "text": [
      "A temperatura 20.0 em graus celsius equivale a 68.0 em fahrenheit\n"
     ]
    }
   ],
   "source": [
    "#9\n",
    "temp_celsius = float(input(\"Digite a temperatura em graus Celsius\"))\n",
    "temp_fah = (temp_celsius *1.8)+32\n",
    "\n",
    "print(f'A temperatura {temp_celsius} em graus celsius equivale a {temp_fah} em fahrenheit')"
   ]
  },
  {
   "cell_type": "code",
   "execution_count": 20,
   "metadata": {},
   "outputs": [
    {
     "name": "stdout",
     "output_type": "stream",
     "text": [
      "A área de um círculo com raio de 15.0 é de 706.86\n"
     ]
    }
   ],
   "source": [
    "#10\n",
    "import math\n",
    "\n",
    "PI = math.pi\n",
    "raio = float(input(\"Qual o raio do círculo?\"))\n",
    "area = PI*raio**2\n",
    "\n",
    "print(f'A área de um círculo com raio de {raio} é de {round(area,2)}')"
   ]
  },
  {
   "cell_type": "markdown",
   "metadata": {},
   "source": [
    "### Strings (str)\n",
    "11. Escreva um programa que receba uma string do usuário e a converta para maiúsculas.\n",
    "12. Crie um programa que receba o nome completo do usuário e imprima o nome com todas as letras minúsculas.\n",
    "13. Desenvolva um programa que peça ao usuário para inserir uma frase e, em seguida, imprima esta frase sem espaços em branco no início e no final.\n",
    "14. Faça um programa que peça ao usuário para digitar uma data no formato \"dd/mm/aaaa\" e, em seguida, imprima o dia, o mês e o ano separadamente.\n",
    "15. Escreva um programa que concatene duas strings fornecidas pelo usuário."
   ]
  },
  {
   "cell_type": "code",
   "execution_count": 21,
   "metadata": {},
   "outputs": [
    {
     "name": "stdout",
     "output_type": "stream",
     "text": [
      "OLA\n"
     ]
    }
   ],
   "source": [
    "#11\n",
    "\n",
    "val = input('digite algo')\n",
    "print(val.upper())"
   ]
  },
  {
   "cell_type": "code",
   "execution_count": 23,
   "metadata": {},
   "outputs": [
    {
     "name": "stdout",
     "output_type": "stream",
     "text": [
      "yago gomes de moura\n"
     ]
    }
   ],
   "source": [
    "#12\n",
    "\n",
    "nome = input('digite o seu nome completo')\n",
    "print(nome.lower())"
   ]
  },
  {
   "cell_type": "code",
   "execution_count": 24,
   "metadata": {},
   "outputs": [
    {
     "name": "stdout",
     "output_type": "stream",
     "text": [
      "ola, tudo bao\n"
     ]
    }
   ],
   "source": [
    "#13\n",
    "\n",
    "frase = input('digite uma frase')\n",
    "print(frase.strip())"
   ]
  },
  {
   "cell_type": "code",
   "execution_count": 26,
   "metadata": {},
   "outputs": [
    {
     "name": "stdout",
     "output_type": "stream",
     "text": [
      "O dia é 03 do mês 10 do ano 1995\n"
     ]
    }
   ],
   "source": [
    "#14\n",
    "\n",
    "frase = input('digite uma data no formato dd/mm/aaaa')\n",
    "lista_data = frase.split(\"/\")\n",
    "\n",
    "print(f'O dia é {lista_data[0]} do mês {lista_data[1]} do ano {lista_data[2]}')"
   ]
  },
  {
   "cell_type": "code",
   "execution_count": 27,
   "metadata": {},
   "outputs": [
    {
     "name": "stdout",
     "output_type": "stream",
     "text": [
      "valor concatenado das string é fishball\n"
     ]
    }
   ],
   "source": [
    "#15\n",
    "\n",
    "string_1 = input('valor_1:') \n",
    "string_2 = input('valor_2:')\n",
    "concat = string_1+string_2\n",
    "\n",
    "print(f'valor concatenado das string é {concat}')"
   ]
  },
  {
   "cell_type": "markdown",
   "metadata": {},
   "source": [
    "### Booleanos (`bool`)\n",
    "16. Escreva um programa que avalie duas expressões booleanas inseridas pelo usuário e retorne o resultado da operação AND entre elas.\n",
    "17. Crie um programa que receba dois valores booleanos do usuário e retorne o resultado da operação OR.\n",
    "18. Desenvolva um programa que peça ao usuário para inserir um valor booleano e, em seguida, inverta esse valor.\n",
    "19. Faça um programa que compare se dois números fornecidos pelo usuário são iguais.\n",
    "20. Escreva um programa que verifique se dois números fornecidos pelo usuário são diferentes."
   ]
  },
  {
   "cell_type": "code",
   "execution_count": 28,
   "metadata": {},
   "outputs": [
    {
     "name": "stdout",
     "output_type": "stream",
     "text": [
      "Resultado do AND lógico: False\n"
     ]
    }
   ],
   "source": [
    "#16\n",
    "valor1 = True\n",
    "valor2 = False\n",
    "resultado_and = valor1 and valor2\n",
    "print(\"Resultado do AND lógico:\", resultado_and)"
   ]
  },
  {
   "cell_type": "code",
   "execution_count": 30,
   "metadata": {},
   "outputs": [
    {
     "name": "stdout",
     "output_type": "stream",
     "text": [
      "Resultado do NOT lógico: False\n"
     ]
    }
   ],
   "source": [
    "#17\n",
    "valor1 = True\n",
    "valor2 = False\n",
    "resultado_or = valor1 or valor2\n",
    "print(\"Resultado do OR lógico:\", resultado_or)"
   ]
  },
  {
   "cell_type": "code",
   "execution_count": 31,
   "metadata": {},
   "outputs": [
    {
     "name": "stdout",
     "output_type": "stream",
     "text": [
      "Resultado do NOT lógico: False\n"
     ]
    }
   ],
   "source": [
    "#18\n",
    "resultado_not = not valor1\n",
    "print(\"Resultado do NOT lógico:\", resultado_not)"
   ]
  },
  {
   "cell_type": "code",
   "execution_count": 33,
   "metadata": {},
   "outputs": [
    {
     "name": "stdout",
     "output_type": "stream",
     "text": [
      "Resultado da igualdade: True\n"
     ]
    }
   ],
   "source": [
    "#19\n",
    "num1 = 5\n",
    "num2 = 5\n",
    "resultado_igualdade = (num1 == num2)\n",
    "print(\"Resultado da igualdade:\", resultado_igualdade)"
   ]
  },
  {
   "cell_type": "code",
   "execution_count": 34,
   "metadata": {},
   "outputs": [
    {
     "name": "stdout",
     "output_type": "stream",
     "text": [
      "Resultado da diferença: False\n"
     ]
    }
   ],
   "source": [
    "#20\n",
    "resultado_diferenca = (num1 != num2)\n",
    "print(\"Resultado da diferença:\", resultado_diferenca)"
   ]
  }
 ],
 "metadata": {
  "kernelspec": {
   "display_name": "Python 3",
   "language": "python",
   "name": "python3"
  },
  "language_info": {
   "codemirror_mode": {
    "name": "ipython",
    "version": 3
   },
   "file_extension": ".py",
   "mimetype": "text/x-python",
   "name": "python",
   "nbconvert_exporter": "python",
   "pygments_lexer": "ipython3",
   "version": "3.10.4"
  }
 },
 "nbformat": 4,
 "nbformat_minor": 2
}
